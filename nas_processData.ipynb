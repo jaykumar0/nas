{
 "cells": [
  {
   "cell_type": "code",
   "execution_count": 1,
   "metadata": {},
   "outputs": [],
   "source": [
    "import pandas as pd\n",
    "import numpy as np"
   ]
  },
  {
   "cell_type": "markdown",
   "metadata": {},
   "source": [
    "### Merge the marks and labels file"
   ]
  },
  {
   "cell_type": "code",
   "execution_count": 2,
   "metadata": {},
   "outputs": [],
   "source": [
    "df_nas = pd.read_csv(\"../../../data/nas-20180226T131253Z-001/nas/nas-pupil-marks.csv\")\n",
    "df_nasLabls = pd.read_csv(\"../../../data/nas-20180226T131253Z-001/nas/nas-labels.csv\")"
   ]
  },
  {
   "cell_type": "code",
   "execution_count": 3,
   "metadata": {},
   "outputs": [
    {
     "data": {
      "text/plain": [
       "((185348, 64), (241, 4))"
      ]
     },
     "execution_count": 3,
     "metadata": {},
     "output_type": "execute_result"
    }
   ],
   "source": [
    "df_nas.shape, df_nasLabls.shape"
   ]
  },
  {
   "cell_type": "code",
   "execution_count": 4,
   "metadata": {},
   "outputs": [
    {
     "data": {
      "text/plain": [
       "Index(['Use computer', 'Maths %', 'Reading %', 'Science %', 'Social %'], dtype='object')"
      ]
     },
     "execution_count": 4,
     "metadata": {},
     "output_type": "execute_result"
    }
   ],
   "source": [
    "# Get cols with nan\n",
    "df_nas.columns[df_nas.isnull().any()]"
   ]
  },
  {
   "cell_type": "code",
   "execution_count": 5,
   "metadata": {},
   "outputs": [
    {
     "data": {
      "text/plain": [
       "Use computer    19162\n",
       "Maths %         92667\n",
       "Reading %       92077\n",
       "Science %       94356\n",
       "Social %        95777\n",
       "dtype: int64"
      ]
     },
     "execution_count": 5,
     "metadata": {},
     "output_type": "execute_result"
    }
   ],
   "source": [
    "# Count of the nan's\n",
    "#df_nas.isnull().sum()\n",
    "null_cols = df_nas.columns[df_nas.isnull().any()]\n",
    "df_nas[null_cols].isnull().sum()"
   ]
  },
  {
   "cell_type": "code",
   "execution_count": 6,
   "metadata": {},
   "outputs": [
    {
     "data": {
      "text/plain": [
       "16"
      ]
     },
     "execution_count": 6,
     "metadata": {},
     "output_type": "execute_result"
    }
   ],
   "source": [
    "# Check for Duplicates\n",
    "df_nas.duplicated().sum()"
   ]
  },
  {
   "cell_type": "code",
   "execution_count": 7,
   "metadata": {},
   "outputs": [
    {
     "data": {
      "text/plain": [
       "339"
      ]
     },
     "execution_count": 7,
     "metadata": {},
     "output_type": "execute_result"
    }
   ],
   "source": [
    "df_nas.duplicated(subset=['STUID']).sum()"
   ]
  },
  {
   "cell_type": "code",
   "execution_count": 8,
   "metadata": {},
   "outputs": [
    {
     "data": {
      "text/plain": [
       "339"
      ]
     },
     "execution_count": 8,
     "metadata": {},
     "output_type": "execute_result"
    }
   ],
   "source": [
    "df_nas.duplicated(subset=['STUID', 'District']).sum()"
   ]
  },
  {
   "cell_type": "code",
   "execution_count": 9,
   "metadata": {},
   "outputs": [
    {
     "data": {
      "text/plain": [
       "(185009, 64)"
      ]
     },
     "execution_count": 9,
     "metadata": {},
     "output_type": "execute_result"
    }
   ],
   "source": [
    "# Remove the duplicates\n",
    "#df_nas = df_nas.drop_duplicates(subset=['STUID', 'District'], keep='first')\n",
    "df_nas = df_nas.drop_duplicates(subset=['STUID'], keep='first')\n",
    "df_nas.shape"
   ]
  },
  {
   "cell_type": "code",
   "execution_count": 10,
   "metadata": {},
   "outputs": [
    {
     "data": {
      "text/plain": [
       "0"
      ]
     },
     "execution_count": 10,
     "metadata": {},
     "output_type": "execute_result"
    }
   ],
   "source": [
    "df_nas.duplicated(subset=['STUID']).sum()"
   ]
  },
  {
   "cell_type": "code",
   "execution_count": 11,
   "metadata": {},
   "outputs": [
    {
     "data": {
      "text/plain": [
       "0"
      ]
     },
     "execution_count": 11,
     "metadata": {},
     "output_type": "execute_result"
    }
   ],
   "source": [
    "df_nas.duplicated().sum()"
   ]
  },
  {
   "cell_type": "code",
   "execution_count": 12,
   "metadata": {},
   "outputs": [
    {
     "data": {
      "text/plain": [
       "Column    object\n",
       "Name      object\n",
       "Level     object\n",
       "Rename    object\n",
       "dtype: object"
      ]
     },
     "execution_count": 12,
     "metadata": {},
     "output_type": "execute_result"
    }
   ],
   "source": [
    "df_nasLabls.dtypes"
   ]
  },
  {
   "cell_type": "code",
   "execution_count": 13,
   "metadata": {},
   "outputs": [],
   "source": [
    "# For merging we need to update the cols to str \n",
    "# Change all to string and replace nan to NAN - str changes NAN to nan\n",
    "\n",
    "df_nas = df_nas.applymap(str).replace('nan',np.nan)"
   ]
  },
  {
   "cell_type": "code",
   "execution_count": 14,
   "metadata": {},
   "outputs": [
    {
     "data": {
      "text/plain": [
       "object    64\n",
       "dtype: int64"
      ]
     },
     "execution_count": 14,
     "metadata": {},
     "output_type": "execute_result"
    }
   ],
   "source": [
    "df_nas.dtypes.value_counts()"
   ]
  },
  {
   "cell_type": "code",
   "execution_count": 15,
   "metadata": {},
   "outputs": [],
   "source": [
    "# Function to merge the df's - to get the lable values\n",
    "def df_merge(df,dfLbls):\n",
    "    df_cols = df.columns.values\n",
    "    df_Lbls_cols = dfLbls['Column'].unique() #dfLbls.columns.values\n",
    "    for col in df_cols:\n",
    "        if col in df_Lbls_cols:\n",
    "            #print(\"processing -\",col) \n",
    "            t = dfLbls.loc[dfLbls['Column'] == col,['Level','Rename']]\n",
    "            t.columns = [col, 'Rename']\n",
    "            #mappy = dict(zip(t.Level,t.Rename))\n",
    "            #df = pd.merge(df,t,on = 'Age',how='left')\n",
    "            df = pd.merge(df,t,on = col,how='left')\n",
    "            \n",
    "            # Dont do this...as can give wrong summation  results...need the NAN's\n",
    "            #df['Rename'].fillna(df[col], inplace=True)\n",
    "            \n",
    "            df.drop(col, axis=1, inplace=True)\n",
    "            df.rename(columns={'Rename': col}, inplace=True)\n",
    "        else:\n",
    "           print(\"Column does not exist-\",col) \n",
    "    return(df)"
   ]
  },
  {
   "cell_type": "code",
   "execution_count": 16,
   "metadata": {},
   "outputs": [
    {
     "name": "stdout",
     "output_type": "stream",
     "text": [
      "Column does not exist- STUID\n",
      "Column does not exist- District\n",
      "Column does not exist- Use computer\n",
      "Column does not exist- Maths %\n",
      "Column does not exist- Reading %\n",
      "Column does not exist- Science %\n",
      "Column does not exist- Social %\n",
      "Wall time: 1min 59s\n"
     ]
    }
   ],
   "source": [
    "%%time\n",
    "df_nas = df_merge(df_nas,df_nasLabls)"
   ]
  },
  {
   "cell_type": "code",
   "execution_count": 17,
   "metadata": {},
   "outputs": [
    {
     "data": {
      "text/plain": [
       "(355043, 64)"
      ]
     },
     "execution_count": 17,
     "metadata": {},
     "output_type": "execute_result"
    }
   ],
   "source": [
    "df_nas.shape"
   ]
  },
  {
   "cell_type": "code",
   "execution_count": 18,
   "metadata": {},
   "outputs": [
    {
     "data": {
      "text/plain": [
       "170034"
      ]
     },
     "execution_count": 18,
     "metadata": {},
     "output_type": "execute_result"
    }
   ],
   "source": [
    "df_nas.duplicated().sum()"
   ]
  },
  {
   "cell_type": "code",
   "execution_count": 19,
   "metadata": {},
   "outputs": [
    {
     "data": {
      "text/plain": [
       "170034"
      ]
     },
     "execution_count": 19,
     "metadata": {},
     "output_type": "execute_result"
    }
   ],
   "source": [
    "df_nas.duplicated(subset=['STUID']).sum()"
   ]
  },
  {
   "cell_type": "code",
   "execution_count": 20,
   "metadata": {},
   "outputs": [
    {
     "data": {
      "text/plain": [
       "(185009, 64)"
      ]
     },
     "execution_count": 20,
     "metadata": {},
     "output_type": "execute_result"
    }
   ],
   "source": [
    "df_nas = df_nas.drop_duplicates(subset=['STUID'], keep='first')\n",
    "df_nas.shape"
   ]
  },
  {
   "cell_type": "code",
   "execution_count": 21,
   "metadata": {},
   "outputs": [],
   "source": [
    "df_nas.to_csv(\"nas_2014.csv\", index=False)"
   ]
  },
  {
   "cell_type": "markdown",
   "metadata": {},
   "source": [
    "### Get the difference between the min and max within the factors"
   ]
  },
  {
   "cell_type": "code",
   "execution_count": 22,
   "metadata": {},
   "outputs": [
    {
     "data": {
      "text/plain": [
       "object    64\n",
       "dtype: int64"
      ]
     },
     "execution_count": 22,
     "metadata": {},
     "output_type": "execute_result"
    }
   ],
   "source": [
    "df_nas.dtypes.value_counts()"
   ]
  },
  {
   "cell_type": "code",
   "execution_count": 23,
   "metadata": {},
   "outputs": [],
   "source": [
    "df_nas[['Maths %','Science %','Social %','Reading %']] = df_nas[['Maths %','Science %','Social %','Reading %']].apply(pd.to_numeric)"
   ]
  },
  {
   "cell_type": "code",
   "execution_count": 24,
   "metadata": {},
   "outputs": [],
   "source": [
    "# Function to get the marks difference between the min and max in a factor\n",
    "def get_marks_diff2(dfnas):\n",
    "    \n",
    "    # Get all the columns to get the diff - the factors\n",
    "    #factors = df_nas.drop(['STUID','District'],axis=1).columns.values\n",
    "    #factors = df_nas.columns.values\n",
    "    \n",
    "    factors = ['Gender', 'Age','Siblings','Handicap', 'Father edu', 'Mother edu', 'Father occupation',\n",
    "               'Mother occupation', 'Below poverty', 'Use calculator','Use Internet', 'Use dictionary',\n",
    "               'Computer use', 'Library use','# Books','Distance','Private tuition','Historical excursions',\n",
    "               'Watch TV', 'Read magazine','Play games', 'Help in household']\n",
    "    \n",
    "    # Create a empty df\n",
    "    df_nas8 = pd.DataFrame(columns =['Factor','Total %', 'Maths %', 'Science %', 'Social %', 'Reading %'])\n",
    "    \n",
    "    # Process For all factors\n",
    "    for col in factors:\n",
    "        df = dfnas.groupby(col)['Maths %','Science %','Social %','Reading %'].mean()\n",
    "        df['Total %'] = df[['Maths %', 'Reading %', 'Science %', 'Social %']].mean(axis=1)\n",
    "    \n",
    "        # Calculate the diff\n",
    "        tot = df['Total %'].max() - df['Total %'].min()\n",
    "        mth = df['Maths %'].max() - df['Maths %'].min()\n",
    "        sci = df['Science %'].max() - df['Science %'].min()\n",
    "        soc = df['Social %'].max() - df['Social %'].min()\n",
    "        rdg = df['Reading %'].max() - df['Reading %'].min()\n",
    "    \n",
    "        # Append the row\n",
    "        df_nas8 = df_nas8.append(pd.Series([col,tot,mth,sci,soc,rdg], index=df_nas8.columns ), ignore_index=True)\n",
    "    \n",
    "    return(df_nas8)"
   ]
  },
  {
   "cell_type": "code",
   "execution_count": 25,
   "metadata": {},
   "outputs": [],
   "source": [
    "df = get_marks_diff2(df_nas)"
   ]
  },
  {
   "cell_type": "code",
   "execution_count": 26,
   "metadata": {},
   "outputs": [],
   "source": [
    "df.set_index('Factor', inplace=True)"
   ]
  },
  {
   "cell_type": "code",
   "execution_count": 27,
   "metadata": {},
   "outputs": [],
   "source": [
    "df.to_csv(\"nas_byFactor_2014.csv\")"
   ]
  }
 ],
 "metadata": {
  "kernelspec": {
   "display_name": "Python 3",
   "language": "python",
   "name": "python3"
  },
  "language_info": {
   "codemirror_mode": {
    "name": "ipython",
    "version": 3
   },
   "file_extension": ".py",
   "mimetype": "text/x-python",
   "name": "python",
   "nbconvert_exporter": "python",
   "pygments_lexer": "ipython3",
   "version": "3.7.0"
  }
 },
 "nbformat": 4,
 "nbformat_minor": 2
}
